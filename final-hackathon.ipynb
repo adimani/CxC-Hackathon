{
 "cells": [
  {
   "cell_type": "markdown",
   "metadata": {},
   "source": [
    "#### All imports here:"
   ]
  },
  {
   "cell_type": "code",
   "execution_count": 2,
   "metadata": {},
   "outputs": [],
   "source": [
    "import pandas as pd\n",
    "import numpy as np\n",
    "import matplotlib.pyplot as plt\n",
    "import seaborn as sns"
   ]
  },
  {
   "cell_type": "markdown",
   "metadata": {},
   "source": [
    "#### Reading data set"
   ]
  },
  {
   "cell_type": "code",
   "execution_count": null,
   "metadata": {},
   "outputs": [],
   "source": [
    "train_data = pd.read_csv(\"./datasets/history.csv\")\n",
    "train_data.head()"
   ]
  },
  {
   "cell_type": "code",
   "execution_count": null,
   "metadata": {},
   "outputs": [],
   "source": [
    "info_df = pd.read_csv(\"account_data_info.csv\")\n",
    "pd.set_option('display.max_colwidth', None)\n",
    "info_df"
   ]
  },
  {
   "cell_type": "markdown",
   "metadata": {},
   "source": [
    "#### Dropping Columns and Research"
   ]
  },
  {
   "cell_type": "code",
   "execution_count": null,
   "metadata": {},
   "outputs": [],
   "source": [
    "# Aditya Parekh:\n",
    "# I am removing these columns because they have 600k+ NULL values.\n",
    "rem_cols_na = ['country_code', 'cashflows_custody_fee', 'arp_pension_origin', 'sss_location']\n",
    "# I am removing these columns because they have 0 NULL values, but only one unique value.\n",
    "rem_cols_one_uniq = ['net_of_fees', 'fee_paid_separately', 'custody_fee_withdrawal', 'is_fee_exempt']\n",
    "# The following columns are NULL when 'class_id' = NULL. DON'T REMOVE THESE YET.\n",
    "null_3198_cols = ['debit_code', 'last_trade_date', 'contract_type', 'inception_date',\n",
    "             'branch', 'credit_limit_type', 'retail_plan', 'language_code', 'dividend_confirm_code']"
   ]
  },
  {
   "cell_type": "code",
   "execution_count": null,
   "metadata": {},
   "outputs": [],
   "source": [
    "# Aditya Mani:\n",
    "# 1. esir_number: Contains 673327 missing values and cannot be imputed (has very little unique values)\n",
    "# 2. shareholder_language: Contains 623554 missing values. Says whether the shareholder speaks English or French and there seems to be an equal proportion.\n",
    "# 3. has_no_min_commission: No Null values and only 1 unique value.\n",
    "# 4. rep_commission_rate: 1 unique value and few missing values that cannot be imputed.\n",
    "# 5. spousal_age_flag: No Null values and only 1 unique value.\n",
    "# 6. is_parameters_account: No Null values and only 1 unique value.\n",
    "# 7. rrsp_limit_reached: No Null values and only 1 unique value.\n",
    "# 8. is_portfolio_account: No Null values and only 1 unique value.\n",
    "# 9. sss_type: Lot of missing values\n",
    "# 10. sss_agent: Lot of missing values\n",
    "# 11. target_grantor_grantee_flag: Missing values\n",
    "# 12. terminal_code: Missing values\n",
    "\n",
    "to_drop = ['esir_number', 'shareholder_language', 'has_no_min_commission', 'rep_commission_rate', \n",
    "           'spousal_age_flag', 'is_parameters_account', 'rrsp_limit_reached', 'is_portfolio_account',\n",
    "             'sss_type', 'sss_agent', 'target_grantor_grantee_flag', 'terminal_code']\n",
    "\n",
    "missing_3198 = ['options_trading_type',\n",
    " 'is_midwest_clearing_account',\n",
    " 'rep_commission_override',\n",
    " 'interest_dividend_conversion_type',\n",
    " 'guarantee_gtor_type',\n",
    " 'deceased_fair_market_value',\n",
    " 'iso_funds_code']"
   ]
  },
  {
   "cell_type": "code",
   "execution_count": null,
   "metadata": {},
   "outputs": [],
   "source": [
    "# Jithin Krishna:"
   ]
  },
  {
   "cell_type": "code",
   "execution_count": null,
   "metadata": {},
   "outputs": [],
   "source": [
    "# Srishti Prayag:"
   ]
  },
  {
   "cell_type": "code",
   "execution_count": null,
   "metadata": {},
   "outputs": [],
   "source": [
    "rem_cols = []\n",
    "rem_cols.append(rem_cols_na)\n",
    "rem_cols.append(rem_cols_one_uniq)\n",
    "rem_cols.append(to_drop)\n",
    "train_data = train_data.drop(rem_cols, axis=1)"
   ]
  }
 ],
 "metadata": {
  "kernelspec": {
   "display_name": "Python 3 (ipykernel)",
   "language": "python",
   "name": "python3"
  },
  "language_info": {
   "codemirror_mode": {
    "name": "ipython",
    "version": 3
   },
   "file_extension": ".py",
   "mimetype": "text/x-python",
   "name": "python",
   "nbconvert_exporter": "python",
   "pygments_lexer": "ipython3",
   "version": "3.9.7"
  }
 },
 "nbformat": 4,
 "nbformat_minor": 2
}
